{
 "cells": [
  {
   "cell_type": "code",
   "execution_count": null,
   "id": "5952f42a",
   "metadata": {},
   "outputs": [],
   "source": [
    "# Q1. 1.What are the two values of the Boolean data type? How do you write them?\n",
    "# A1. The two values of Boolean datatype are TRUE AND FALSE. They are written as True and False or 1 and 0. "
   ]
  },
  {
   "cell_type": "code",
   "execution_count": null,
   "id": "426267a9",
   "metadata": {},
   "outputs": [],
   "source": [
    "#Q2. What are the three different types of Boolean operators?\n",
    "#A2. The three different types of boolean operators are AND, OR, NOT."
   ]
  },
  {
   "cell_type": "code",
   "execution_count": null,
   "id": "2df6fc32",
   "metadata": {},
   "outputs": [],
   "source": [
    "#Q3. Make a list of each Boolean operator&#39;s truth tables .\n",
    "#A3. \n",
    "###\n",
    "AND table\n",
    "\n",
    "TRUE   FALSE  = FALSE\n",
    "FALSE  TRUE   = FALSE\n",
    "TRUE   TRUE   = TRUE\n",
    "FALSE  FALSE  = FALSE\n",
    "\n",
    "OR TABLE\n",
    "\n",
    "TRUE   TRUE    = TRUE\n",
    "TRUE   FALSE   = TRUE\n",
    "FALSE  TRUE    = TRUE\n",
    "FALSE  FALSE   = FALSE\n",
    "\n",
    "NOT TABLE\n",
    "\n",
    "A       NOT A\n",
    "TRUE    FALSE\n",
    "FALSE   TRUE"
   ]
  },
  {
   "cell_type": "code",
   "execution_count": null,
   "id": "f9c14d9a",
   "metadata": {},
   "outputs": [],
   "source": [
    "#Q4. What are the values of the following expressions?\n",
    "'''(5 > 4) and (3 == 5)             ----> FALSE\n",
    "not (5 > 4)                         ----> FALSE\n",
    "(5 > 4) or (3 == 5)                 ----> TRUE\n",
    "not ((5 > 4) or (3 == 5))           ----> FALSE\n",
    "(True and True) and (True == False) ----> FALSE\n",
    "(not False) or (not True)           ----> TRUE'''     \n"
   ]
  },
  {
   "cell_type": "code",
   "execution_count": null,
   "id": "46b6cf72",
   "metadata": {},
   "outputs": [],
   "source": [
    "#Q5What are the six comparison operators?\n",
    "'''A5. the six comparison operators in python are :-\n",
    "1.  ==    this checks if the given values are equal to each other\n",
    "2.  !=    this checks if the given values are not equal to each other.\n",
    "3.  >     this checks if one value is greater than the other e.g. x>y\n",
    "4.  <     this checks if one value is smaller than the other e.g. x<y\n",
    "5.  >=    this checks if one value is greater than equal to the other e.g. x>=y\n",
    "6.  <=    this checks if one value is smaller than equal to the other e.g. x<=y '''"
   ]
  },
  {
   "cell_type": "code",
   "execution_count": null,
   "id": "9cd9ff46",
   "metadata": {},
   "outputs": [],
   "source": [
    "'''Q6. How do you tell the difference between the equal to and assignment operators?Describe a\n",
    "condition and when you would use one.\n",
    "A6. the equal to operator is a comparison operator written as (==). \n",
    "it checks if the two given values are equal to one another.\n",
    "For example- \n",
    "if a==10:\n",
    "    print(\"the given value is equal to 10\")\n",
    "\n",
    "the assignment operator is written as (=). It is used to allot a specific value\n",
    "to a given vaariable.\n",
    "for example-\n",
    "a=0\n",
    "l=[1,2,3,4,5,6]\n",
    "s=\"string\" '''"
   ]
  },
  {
   "cell_type": "code",
   "execution_count": null,
   "id": "1abd8e0c",
   "metadata": {},
   "outputs": [],
   "source": [
    "'''Q7. Identify the three blocks in this code:\n",
    "spam = 0\n",
    "if spam == 10:\n",
    "print(\"eggs\")      1st block \n",
    "if spam > 5:\n",
    "print(\"bacon\")     2nd block\n",
    "else:\n",
    "print(\"ham\")       3rd block\n",
    "print(\"spam\")      3rd block\n",
    "print(\"spam\")      3rd block\n",
    "\n",
    "therefor the correct code would be-'''"
   ]
  },
  {
   "cell_type": "code",
   "execution_count": 3,
   "id": "fd028596",
   "metadata": {},
   "outputs": [
    {
     "name": "stdout",
     "output_type": "stream",
     "text": [
      "enter the value of spam 3\n",
      "greetings!\n"
     ]
    }
   ],
   "source": [
    "'''Q8. Write code that prints Hello if 1 is stored in spam, prints Howdy if 2 is stored in spam, and prints\n",
    "Greetings! if anything else is stored in spam.'''\n",
    "spam=int(input(\"enter the value of spam \"))\n",
    "if spam==1:\n",
    "    print(\"hello\")\n",
    "elif spam==2:\n",
    "    print(\"howdy\")\n",
    "else:\n",
    "    print(\"greetings!\")\n",
    "    "
   ]
  },
  {
   "cell_type": "code",
   "execution_count": null,
   "id": "55e20417",
   "metadata": {},
   "outputs": [],
   "source": [
    "'''Q9.If your programme is stuck in an endless loop, what keys you’ll press?\n",
    "A9. if our program is stuck in an infinite loop , we can click on kernel and \n",
    "then restart kernel to get out oof the infinite loop'''"
   ]
  },
  {
   "cell_type": "code",
   "execution_count": null,
   "id": "434170eb",
   "metadata": {},
   "outputs": [],
   "source": [
    "'''Q10. How can you tell the difference between break and continue?\n",
    "A10. The break command in python terminates the loop once a specific condition\n",
    "is met.\n",
    "The continue command is used to skip the remaining part of the loop for that \n",
    "particular iteration only and continue with the next iteration '''"
   ]
  },
  {
   "cell_type": "code",
   "execution_count": null,
   "id": "218a7612",
   "metadata": {},
   "outputs": [],
   "source": [
    "'''Q11. In a for loop, what is the \n",
    "difference between range(10), range(0, 10), and range(0, 10, 1)?\n",
    "A11. All the three of the given examples will give the same results. \n",
    "The difference lies in defining the parameters on which the for loop \n",
    "will function. range(0,10) makes the loop start from 0 and go till 10\n",
    "(excluding the upper bound) , range (0,10,1) makes the loop start from 0 \n",
    "and go till 10 (excluding the upper bound) with a step of 1'''"
   ]
  },
  {
   "cell_type": "code",
   "execution_count": 2,
   "id": "39f16ed0",
   "metadata": {},
   "outputs": [
    {
     "name": "stdout",
     "output_type": "stream",
     "text": [
      "1\n",
      "2\n",
      "3\n",
      "4\n",
      "5\n",
      "6\n",
      "7\n",
      "8\n",
      "9\n",
      "10\n"
     ]
    }
   ],
   "source": [
    "'''Q12. Write a short program that prints the numbers 1 to 10 using a for loop. Then write an equivalent\n",
    "program that prints the numbers 1 to 10 using a while loop.'''\n",
    "for i in range(1,11):\n",
    "    print (i)"
   ]
  },
  {
   "cell_type": "code",
   "execution_count": 2,
   "id": "7374428b",
   "metadata": {},
   "outputs": [
    {
     "name": "stdout",
     "output_type": "stream",
     "text": [
      "1\n",
      "2\n",
      "3\n",
      "4\n",
      "5\n",
      "6\n",
      "7\n",
      "8\n",
      "9\n",
      "10\n"
     ]
    }
   ],
   "source": [
    "a=1\n",
    "while a<=10:\n",
    "    print(a)\n",
    "    a+=1"
   ]
  },
  {
   "cell_type": "code",
   "execution_count": null,
   "id": "7b9236f6",
   "metadata": {},
   "outputs": [],
   "source": [
    "'''Q13. If you had a function named bacon() inside a module named spam, \n",
    "how would you call it after importing spam?\n",
    "A13. After importing spam, we can call the function in the following way :-\n",
    "spam.bacon()'''"
   ]
  }
 ],
 "metadata": {
  "kernelspec": {
   "display_name": "Python 3 (ipykernel)",
   "language": "python",
   "name": "python3"
  },
  "language_info": {
   "codemirror_mode": {
    "name": "ipython",
    "version": 3
   },
   "file_extension": ".py",
   "mimetype": "text/x-python",
   "name": "python",
   "nbconvert_exporter": "python",
   "pygments_lexer": "ipython3",
   "version": "3.10.9"
  }
 },
 "nbformat": 4,
 "nbformat_minor": 5
}
